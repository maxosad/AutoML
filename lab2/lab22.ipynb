{
 "cells": [
  {
   "cell_type": "code",
   "execution_count": 1,
   "id": "427bb817-7acb-4761-b954-40cedad0abd3",
   "metadata": {},
   "outputs": [],
   "source": [
    "import pandas as pd \n",
    "import numpy as np"
   ]
  },
  {
   "cell_type": "code",
   "execution_count": 2,
   "id": "5e5db8ee-0fba-486a-897d-9fc9234514e9",
   "metadata": {},
   "outputs": [],
   "source": [
    "import random\n",
    "\n",
    "random.seed(0)"
   ]
  },
  {
   "cell_type": "code",
   "execution_count": 3,
   "id": "b2d97cd9-8dde-4752-b995-a6fe7bda0485",
   "metadata": {},
   "outputs": [],
   "source": [
    "import warnings\n",
    "warnings.filterwarnings('ignore')"
   ]
  },
  {
   "cell_type": "markdown",
   "id": "0dc134fd-e851-446f-9c62-6d7fe226d9e7",
   "metadata": {},
   "source": [
    "1. Выберите алгоритм обучения с учителем с большим числом гиперпараметров."
   ]
  },
  {
   "cell_type": "code",
   "execution_count": 4,
   "id": "bdba2c42-c796-4e6c-8980-f7fcab5743d7",
   "metadata": {},
   "outputs": [],
   "source": [
    "from sklearn.ensemble import RandomForestClassifier"
   ]
  },
  {
   "cell_type": "code",
   "execution_count": 5,
   "id": "50f2dfc3-43a2-48f2-97d8-73b93b4e9bc1",
   "metadata": {},
   "outputs": [],
   "source": [
    "main_model = RandomForestClassifier"
   ]
  },
  {
   "cell_type": "markdown",
   "id": "7f72e639-f849-44cf-81f1-e532768945c0",
   "metadata": {},
   "source": [
    "2. Выберите набор данных и целевую функцию оценки алгоритма."
   ]
  },
  {
   "cell_type": "code",
   "execution_count": 6,
   "id": "e01b96a6-125a-4134-bc83-c6647fd3f7dc",
   "metadata": {},
   "outputs": [],
   "source": [
    "from sklearn.metrics import precision_score"
   ]
  },
  {
   "cell_type": "code",
   "execution_count": 7,
   "id": "3234ae18-297f-4c1c-af66-fc740b609d49",
   "metadata": {},
   "outputs": [],
   "source": [
    "import os\n",
    "from scipy.io import arff\n",
    "from scipy.io.arff import ParseArffError"
   ]
  },
  {
   "cell_type": "code",
   "execution_count": 8,
   "id": "8f0a423a-ff45-4eb8-aea3-028031f5677f",
   "metadata": {},
   "outputs": [],
   "source": [
    "to_file = ''"
   ]
  },
  {
   "cell_type": "code",
   "execution_count": 9,
   "id": "4afbc575-2c08-44ee-ad0a-5183a47c566f",
   "metadata": {},
   "outputs": [],
   "source": [
    "df_name = '8.arff'"
   ]
  },
  {
   "cell_type": "code",
   "execution_count": 10,
   "id": "1a5105a8-935b-4e47-b1bc-2e7eb8a26314",
   "metadata": {},
   "outputs": [],
   "source": [
    "first_arff, meta = arff.loadarff(to_file+df_name)"
   ]
  },
  {
   "cell_type": "code",
   "execution_count": 11,
   "id": "96d53edd-fe17-4010-b195-17718050cb63",
   "metadata": {},
   "outputs": [
    {
     "data": {
      "text/plain": [
       "Dataset: liver-disorders\n",
       "\tmcv's type is numeric\n",
       "\talkphos's type is numeric\n",
       "\tsgpt's type is numeric\n",
       "\tsgot's type is numeric\n",
       "\tgammagt's type is numeric\n",
       "\tdrinks's type is numeric\n",
       "\tselector's type is nominal, range is ('1', '2')"
      ]
     },
     "execution_count": 11,
     "metadata": {},
     "output_type": "execute_result"
    }
   ],
   "source": [
    "meta"
   ]
  },
  {
   "cell_type": "code",
   "execution_count": 12,
   "id": "3a2299bc-2220-4b11-b201-f4173520ed6b",
   "metadata": {},
   "outputs": [
    {
     "data": {
      "text/plain": [
       "['numeric', 'numeric', 'numeric', 'numeric', 'numeric', 'numeric', 'nominal']"
      ]
     },
     "execution_count": 12,
     "metadata": {},
     "output_type": "execute_result"
    }
   ],
   "source": [
    "meta.types()"
   ]
  },
  {
   "cell_type": "code",
   "execution_count": 13,
   "id": "eafd921c-18d4-47bb-936d-7cf82d696367",
   "metadata": {},
   "outputs": [
    {
     "data": {
      "text/plain": [
       "['mcv', 'alkphos', 'sgpt', 'sgot', 'gammagt', 'drinks', 'selector']"
      ]
     },
     "execution_count": 13,
     "metadata": {},
     "output_type": "execute_result"
    }
   ],
   "source": [
    "meta.names()"
   ]
  },
  {
   "cell_type": "code",
   "execution_count": 14,
   "id": "ed3faa73-923a-45dd-bd1f-1c5e550e24c0",
   "metadata": {},
   "outputs": [
    {
     "data": {
      "text/plain": [
       "''"
      ]
     },
     "execution_count": 14,
     "metadata": {},
     "output_type": "execute_result"
    }
   ],
   "source": [
    "first_arff\n",
    ";"
   ]
  },
  {
   "cell_type": "code",
   "execution_count": 15,
   "id": "5b6fad22-e675-4b97-9750-b25dd52cb253",
   "metadata": {},
   "outputs": [],
   "source": [
    "df = pd.DataFrame(data=first_arff, columns=meta.names())"
   ]
  },
  {
   "cell_type": "code",
   "execution_count": 16,
   "id": "75c0fdd7-f906-49fe-a945-31d7da56a795",
   "metadata": {},
   "outputs": [],
   "source": [
    "df['selector'] = df['selector'].astype(int)"
   ]
  },
  {
   "cell_type": "code",
   "execution_count": 17,
   "id": "a732d19d-fc58-45b1-8682-bfe7fe1ba420",
   "metadata": {},
   "outputs": [
    {
     "data": {
      "text/html": [
       "<div>\n",
       "<style scoped>\n",
       "    .dataframe tbody tr th:only-of-type {\n",
       "        vertical-align: middle;\n",
       "    }\n",
       "\n",
       "    .dataframe tbody tr th {\n",
       "        vertical-align: top;\n",
       "    }\n",
       "\n",
       "    .dataframe thead th {\n",
       "        text-align: right;\n",
       "    }\n",
       "</style>\n",
       "<table border=\"1\" class=\"dataframe\">\n",
       "  <thead>\n",
       "    <tr style=\"text-align: right;\">\n",
       "      <th></th>\n",
       "      <th>mcv</th>\n",
       "      <th>alkphos</th>\n",
       "      <th>sgpt</th>\n",
       "      <th>sgot</th>\n",
       "      <th>gammagt</th>\n",
       "      <th>drinks</th>\n",
       "      <th>selector</th>\n",
       "    </tr>\n",
       "  </thead>\n",
       "  <tbody>\n",
       "    <tr>\n",
       "      <th>0</th>\n",
       "      <td>85.0</td>\n",
       "      <td>92.0</td>\n",
       "      <td>45.0</td>\n",
       "      <td>27.0</td>\n",
       "      <td>31.0</td>\n",
       "      <td>0.0</td>\n",
       "      <td>1</td>\n",
       "    </tr>\n",
       "    <tr>\n",
       "      <th>1</th>\n",
       "      <td>85.0</td>\n",
       "      <td>64.0</td>\n",
       "      <td>59.0</td>\n",
       "      <td>32.0</td>\n",
       "      <td>23.0</td>\n",
       "      <td>0.0</td>\n",
       "      <td>2</td>\n",
       "    </tr>\n",
       "    <tr>\n",
       "      <th>2</th>\n",
       "      <td>86.0</td>\n",
       "      <td>54.0</td>\n",
       "      <td>33.0</td>\n",
       "      <td>16.0</td>\n",
       "      <td>54.0</td>\n",
       "      <td>0.0</td>\n",
       "      <td>2</td>\n",
       "    </tr>\n",
       "    <tr>\n",
       "      <th>3</th>\n",
       "      <td>91.0</td>\n",
       "      <td>78.0</td>\n",
       "      <td>34.0</td>\n",
       "      <td>24.0</td>\n",
       "      <td>36.0</td>\n",
       "      <td>0.0</td>\n",
       "      <td>2</td>\n",
       "    </tr>\n",
       "    <tr>\n",
       "      <th>4</th>\n",
       "      <td>87.0</td>\n",
       "      <td>70.0</td>\n",
       "      <td>12.0</td>\n",
       "      <td>28.0</td>\n",
       "      <td>10.0</td>\n",
       "      <td>0.0</td>\n",
       "      <td>2</td>\n",
       "    </tr>\n",
       "    <tr>\n",
       "      <th>...</th>\n",
       "      <td>...</td>\n",
       "      <td>...</td>\n",
       "      <td>...</td>\n",
       "      <td>...</td>\n",
       "      <td>...</td>\n",
       "      <td>...</td>\n",
       "      <td>...</td>\n",
       "    </tr>\n",
       "    <tr>\n",
       "      <th>340</th>\n",
       "      <td>99.0</td>\n",
       "      <td>75.0</td>\n",
       "      <td>26.0</td>\n",
       "      <td>24.0</td>\n",
       "      <td>41.0</td>\n",
       "      <td>12.0</td>\n",
       "      <td>1</td>\n",
       "    </tr>\n",
       "    <tr>\n",
       "      <th>341</th>\n",
       "      <td>96.0</td>\n",
       "      <td>69.0</td>\n",
       "      <td>53.0</td>\n",
       "      <td>43.0</td>\n",
       "      <td>203.0</td>\n",
       "      <td>12.0</td>\n",
       "      <td>2</td>\n",
       "    </tr>\n",
       "    <tr>\n",
       "      <th>342</th>\n",
       "      <td>98.0</td>\n",
       "      <td>77.0</td>\n",
       "      <td>55.0</td>\n",
       "      <td>35.0</td>\n",
       "      <td>89.0</td>\n",
       "      <td>15.0</td>\n",
       "      <td>1</td>\n",
       "    </tr>\n",
       "    <tr>\n",
       "      <th>343</th>\n",
       "      <td>91.0</td>\n",
       "      <td>68.0</td>\n",
       "      <td>27.0</td>\n",
       "      <td>26.0</td>\n",
       "      <td>14.0</td>\n",
       "      <td>16.0</td>\n",
       "      <td>1</td>\n",
       "    </tr>\n",
       "    <tr>\n",
       "      <th>344</th>\n",
       "      <td>98.0</td>\n",
       "      <td>99.0</td>\n",
       "      <td>57.0</td>\n",
       "      <td>45.0</td>\n",
       "      <td>65.0</td>\n",
       "      <td>20.0</td>\n",
       "      <td>1</td>\n",
       "    </tr>\n",
       "  </tbody>\n",
       "</table>\n",
       "<p>345 rows × 7 columns</p>\n",
       "</div>"
      ],
      "text/plain": [
       "      mcv  alkphos  sgpt  sgot  gammagt  drinks  selector\n",
       "0    85.0     92.0  45.0  27.0     31.0     0.0         1\n",
       "1    85.0     64.0  59.0  32.0     23.0     0.0         2\n",
       "2    86.0     54.0  33.0  16.0     54.0     0.0         2\n",
       "3    91.0     78.0  34.0  24.0     36.0     0.0         2\n",
       "4    87.0     70.0  12.0  28.0     10.0     0.0         2\n",
       "..    ...      ...   ...   ...      ...     ...       ...\n",
       "340  99.0     75.0  26.0  24.0     41.0    12.0         1\n",
       "341  96.0     69.0  53.0  43.0    203.0    12.0         2\n",
       "342  98.0     77.0  55.0  35.0     89.0    15.0         1\n",
       "343  91.0     68.0  27.0  26.0     14.0    16.0         1\n",
       "344  98.0     99.0  57.0  45.0     65.0    20.0         1\n",
       "\n",
       "[345 rows x 7 columns]"
      ]
     },
     "execution_count": 17,
     "metadata": {},
     "output_type": "execute_result"
    }
   ],
   "source": [
    "df"
   ]
  },
  {
   "cell_type": "code",
   "execution_count": 18,
   "id": "a6717fdd-97f4-4ff0-8248-616cdd1e3ce8",
   "metadata": {},
   "outputs": [],
   "source": [
    "target = 'selector'"
   ]
  },
  {
   "cell_type": "markdown",
   "id": "f88fa46b-b113-41db-a730-1e958f19ef72",
   "metadata": {},
   "source": [
    "Изучите характеристики ваших данных, исследуйте различные аспекты задачи, такие как количество признаков, баланс классов и тип задачи (классификация или регрессия).\n",
    "\n",
    "Задача бинарной классификации заболевания печени, \n",
    "\n",
    "6 признаков: показатели из анализа крови, первые 5 - int, 6 ой Real 345 записей\n",
    "\n",
    "Пропусков в данных нет\n",
    "\n",
    "Attribute information:\n",
    "1. mcv\tmean corpuscular volume\n",
    "2. alkphos\talkaline phosphotase\n",
    "3. sgpt\talamine aminotransferase\n",
    "4. sgot \taspartate aminotransferase\n",
    "5. gammagt\tgamma-glutamyl transpeptidase\n",
    "6. drinks\tnumber of half-pint equivalents of alcoholic beverages drunk per day\n",
    "7. selector  field used to split data into two sets\n",
    "\n",
    "Все значения не превышают 300\n",
    "\n",
    "Значения в первых четырех столбцах не превышает 100\n",
    "\n",
    "Значения в пятом столбце в основном меньше 100, но там есть 107, 150, 250\n",
    "\n",
    "В таргете значения 1 и 2\n",
    "\n",
    "1 - 145\n",
    "\n",
    "2 - 200\n",
    "\n",
    "всего 345"
   ]
  },
  {
   "cell_type": "markdown",
   "id": "81a63a93-ac2a-4e6e-a632-600a2469541d",
   "metadata": {},
   "source": [
    "3. Реализуйте алгоритм байесовской оптимизации"
   ]
  },
  {
   "cell_type": "code",
   "execution_count": 19,
   "id": "be76b9b1-6718-414a-a32c-f540c4b8a5d2",
   "metadata": {},
   "outputs": [
    {
     "data": {
      "text/plain": [
       "7"
      ]
     },
     "execution_count": 19,
     "metadata": {},
     "output_type": "execute_result"
    }
   ],
   "source": [
    "data_size = df.shape[0]\n",
    "features = df.shape[1]\n",
    "features"
   ]
  },
  {
   "cell_type": "code",
   "execution_count": 20,
   "id": "6d13a569-9a6c-4a6d-842c-3f0c7e510b3a",
   "metadata": {},
   "outputs": [],
   "source": [
    "# param_dist = {\n",
    "#     'n_estimators': (1, 1000),\n",
    "#     'max_depth': (1, data_size),\n",
    "#     'min_samples_split':(2, data_size),\n",
    "#     'min_samples_leaf': (1, data_size),\n",
    "#     'max_features': (1, features-1),\n",
    "#     'max_leaf_nodes': (2, data_size)\n",
    "# }"
   ]
  },
  {
   "cell_type": "code",
   "execution_count": 21,
   "id": "07a4b297-bc8b-4cd7-bb41-2e80b32a5c19",
   "metadata": {},
   "outputs": [],
   "source": [
    "param_dist = {\n",
    "    'n_estimators': (1, 5),\n",
    "    'max_depth': (1, 2),\n",
    "    'min_samples_split':(2, 3),\n",
    "    'min_samples_leaf': (1, 2),\n",
    "    'max_features': (1, features-1),\n",
    "    'max_leaf_nodes': (2, 3)\n",
    "}\n",
    "# В мире продакшена принято делить данные на числовые и категориальные признаки https://your-scorpion.ru/log-loss-pca/"
   ]
  },
  {
   "cell_type": "markdown",
   "id": "86cb7ffc-f8b6-416f-9e88-d2ce312657cb",
   "metadata": {},
   "source": [
    "3. Реализуйте алгоритм байесовской оптимизации."
   ]
  },
  {
   "cell_type": "code",
   "execution_count": 22,
   "id": "35f6f191-d5ca-4e74-8f78-43fcf1b94cac",
   "metadata": {},
   "outputs": [],
   "source": [
    "from sklearn.model_selection import train_test_split\n",
    "\n",
    "def check_model(model):\n",
    "    \n",
    "    X_train, X_test, y_train, y_test = train_test_split(df.drop(target, axis = 1), df[target])\n",
    "    model.fit(X_train, y_train)\n",
    "    return precision_score(y_test, model.predict(X_test), average='micro')"
   ]
  },
  {
   "cell_type": "code",
   "execution_count": 23,
   "id": "b3dc9c02-43e3-4b96-81c8-d6b104f4dab6",
   "metadata": {},
   "outputs": [],
   "source": [
    "def generate_hyp(d):\n",
    "    ans_d = {}\n",
    "    for key in d:\n",
    "        start_end = d[key]\n",
    "        \n",
    "        yield ans_d"
   ]
  },
  {
   "cell_type": "code",
   "execution_count": 24,
   "id": "a382b7cb-13cd-47c5-b8df-373e7221a8df",
   "metadata": {},
   "outputs": [],
   "source": [
    "def genNumber(start, end):\n",
    "    for num in range(start, end+1):\n",
    "        yield num"
   ]
  },
  {
   "cell_type": "code",
   "execution_count": 25,
   "id": "35d2effd-97fd-4c7a-9677-d3dfc4c9dba2",
   "metadata": {},
   "outputs": [],
   "source": [
    "from sklearn.gaussian_process import GaussianProcessRegressor\n",
    "from scipy.stats import norm\n",
    "from math import sqrt, log"
   ]
  },
  {
   "cell_type": "code",
   "execution_count": null,
   "id": "48506033-ce82-4429-aafe-a06336c75201",
   "metadata": {},
   "outputs": [],
   "source": []
  },
  {
   "cell_type": "code",
   "execution_count": 26,
   "id": "fb743588-4a6d-4bce-962e-07b70c4ee7b4",
   "metadata": {},
   "outputs": [],
   "source": [
    "class BayesianOptimization:\n",
    "    def __init__(self):\n",
    "        self.observations_df = pd.DataFrame()\n",
    "        self.model = GaussianProcessRegressor(random_state=0)\n",
    "    \n",
    "    def fitt(self):\n",
    "        self.model.fit(self.observations_df.drop('score', axis=1), \n",
    "                       self.observations_df[['score']])\n",
    "    \n",
    "    def check_observ(self, observ:dict):\n",
    "        score = check_model(main_model(**observ))\n",
    "        observ['score'] = score\n",
    "        hy_series = pd.Series(observ)\n",
    "    \n",
    "        self.observations_df = pd.concat([self.observations_df, hy_series.to_frame().T], ignore_index=True)\n",
    "        self.fitt()\n",
    "        return score\n",
    "    \n",
    "    def find_new_observ(self):\n",
    "        maxx = -1\n",
    "        maxx_params = {} #Dict\n",
    "        for n0 in range(param_dist['n_estimators'][0], param_dist['n_estimators'][1]+1):\n",
    "            observ = {} \n",
    "            observ['n_estimators'] = n0\n",
    "            for n1 in range(param_dist['max_depth'][0], param_dist['max_depth'][1]+1):\n",
    "                observ['max_depth'] = n1\n",
    "                for n2 in range(param_dist['min_samples_split'][0], param_dist['min_samples_split'][1]+1):\n",
    "                    observ['min_samples_split'] = n2\n",
    "                    for n3 in range(param_dist['min_samples_leaf'][0], param_dist['min_samples_leaf'][1]+1):\n",
    "                        observ['min_samples_leaf'] = n3\n",
    "                        for n4 in range(param_dist['max_features'][0], param_dist['max_features'][1]+1):\n",
    "                            observ['max_features'] = n4\n",
    "                            for n5 in range(param_dist['max_leaf_nodes'][0], param_dist['max_leaf_nodes'][1]+1):\n",
    "                                observ['max_leaf_nodes'] = n5\n",
    "                                predicted_score, st_div = self.model.predict(pd.Series(observ).to_frame().T, return_std=True)\n",
    "                                f = predicted_score[0] + sqrt(3/2 * log(self.observations_df.shape[0] + 1)) * st_div[0]\n",
    "                                # f = 0.5\n",
    "                                if (maxx < f):\n",
    "                                    maxx = f\n",
    "                                    maxx_params = observ\n",
    "                                    # print(f'{maxx} {f}')\n",
    "                                    # print(maxx_params)\n",
    "        # generators = []\n",
    "        # for key in param_dist:\n",
    "        #     start_end = param_dist[key]\n",
    "        #     generators.append(genNumber(start_end[0], start_end[1]))\n",
    "        \n",
    "#         for n0 in generators[0]:\n",
    "#             observ = {} \n",
    "#             observ['n_estimators'] = n0\n",
    "#             for n1 in generators[1]:\n",
    "#                 observ['max_depth'] = n1\n",
    "#                 for n2 in generators[2]:\n",
    "#                     observ['min_samples_split'] = n2\n",
    "#                     for n3 in generators[3]:\n",
    "#                         observ['min_samples_leaf'] = n3\n",
    "#                         for n4 in generators[4]:\n",
    "#                             observ['max_features'] = n4\n",
    "#                             for n5 in generators[5]:\n",
    "#                                 observ['max_leaf_nodes'] = n5\n",
    "                                \n",
    "#                                 predicted_score, st_div = self.model.predict(pd.Series(observ).to_frame().T, return_std=True)\n",
    "#                                 # print(len(st_div))\n",
    "#                                 # print(self.observations_df.shape)\n",
    "#                                 f = predicted_score[0] + sqrt(3/2 * log(self.observations_df.shape[0] + 1)) * st_div[0]\n",
    "#                                 # f = 0.5\n",
    "#                                 if (maxx < f):\n",
    "#                                     maxx = f\n",
    "#                                     maxx_params = observ\n",
    "        return maxx_params"
   ]
  },
  {
   "cell_type": "code",
   "execution_count": 27,
   "id": "8dc6d00c-52ab-4348-8c8a-0efb13559a77",
   "metadata": {},
   "outputs": [],
   "source": [
    "bayes = BayesianOptimization()"
   ]
  },
  {
   "cell_type": "code",
   "execution_count": null,
   "id": "ec688c63-3416-49fe-bf00-d791cbe957dc",
   "metadata": {},
   "outputs": [],
   "source": []
  },
  {
   "cell_type": "code",
   "execution_count": 28,
   "id": "805821fd-59db-4cb7-b05b-571270fba1e0",
   "metadata": {},
   "outputs": [],
   "source": [
    "class RandomParamSearch:\n",
    "    def __init__(self, params):\n",
    "        self.params = params\n",
    "    \n",
    "    def get_combination(self):\n",
    "        ans_dict = {}\n",
    "        for i in self.params:\n",
    "            ans_dict[i] = random.randint(self.params[i][0], self.params[i][1])\n",
    "        return ans_dict"
   ]
  },
  {
   "cell_type": "code",
   "execution_count": 29,
   "id": "b242d2ab-2401-43f4-9136-ea13922e5424",
   "metadata": {},
   "outputs": [],
   "source": [
    "best_bayes=[0]\n",
    "best_score = 0"
   ]
  },
  {
   "cell_type": "code",
   "execution_count": 30,
   "id": "c7e61a4d-286f-4e6c-bb7c-06dc01f87ada",
   "metadata": {},
   "outputs": [],
   "source": [
    "r1 = RandomParamSearch(param_dist)\n",
    "for i in range(15):\n",
    "    sc = bayes.check_observ(r1.get_combination())\n",
    "    if (best_score < sc):\n",
    "        best_score = sc\n",
    "    best_bayes.append(best_score)"
   ]
  },
  {
   "cell_type": "code",
   "execution_count": 31,
   "id": "10d0a168-8761-4452-b399-036d3ad864be",
   "metadata": {},
   "outputs": [],
   "source": [
    "# bayes.find_new_observ()"
   ]
  },
  {
   "cell_type": "code",
   "execution_count": null,
   "id": "923840a6-9a91-48a5-a8f9-6383f83e3227",
   "metadata": {},
   "outputs": [],
   "source": []
  },
  {
   "cell_type": "code",
   "execution_count": 32,
   "id": "d001221b-c270-4d29-9a75-c92dee41effb",
   "metadata": {},
   "outputs": [
    {
     "name": "stdout",
     "output_type": "stream",
     "text": [
      "0 0.5517241379310345\n",
      "10 0.5287356321839081\n",
      "20 0.6666666666666666\n",
      "30 0.5862068965517241\n",
      "40 0.6551724137931034\n",
      "50 0.5287356321839081\n",
      "60 0.5862068965517241\n",
      "70 0.7126436781609196\n",
      "80 0.5977011494252874\n",
      "90 0.5747126436781609\n",
      "0.7701149425287356\n"
     ]
    }
   ],
   "source": [
    "\n",
    "for i in range(100):\n",
    "    obs = bayes.find_new_observ()\n",
    "    score = bayes.check_observ(obs)\n",
    "    if score > best_score:\n",
    "        best_score = score\n",
    "    best_bayes.append(best_score)\n",
    "    if i % 10 == 0:\n",
    "        print(f'{i} {score}')\n",
    "print(best_score)"
   ]
  },
  {
   "cell_type": "markdown",
   "id": "071b6f9d-0925-42a6-b684-55f3c6c3eb05",
   "metadata": {},
   "source": [
    "4. Сравните алгоритм байесовской оптимизации со случайным поиском.\n"
   ]
  },
  {
   "cell_type": "code",
   "execution_count": 33,
   "id": "1bb280da-ad13-47cb-9f46-f987f0518d7c",
   "metadata": {},
   "outputs": [],
   "source": [
    "random_search = RandomParamSearch(param_dist)"
   ]
  },
  {
   "cell_type": "code",
   "execution_count": 34,
   "id": "744bda95-13c9-4127-b56b-f10a2bcfa1c9",
   "metadata": {},
   "outputs": [],
   "source": [
    "best_random=[0]"
   ]
  },
  {
   "cell_type": "code",
   "execution_count": 35,
   "id": "5f0cb5e3-b2ce-47c0-95b8-d0e393a808d6",
   "metadata": {},
   "outputs": [],
   "source": [
    "best_params = None \n",
    "best_score = 0\n",
    "random_history_iteration = []\n",
    "random_history_hypers = []\n",
    "random_history_score = []\n",
    "\n",
    "hyper_df = pd.DataFrame()"
   ]
  },
  {
   "cell_type": "code",
   "execution_count": 36,
   "id": "6c1757a3-8235-4c23-981c-b15142c43488",
   "metadata": {},
   "outputs": [
    {
     "name": "stdout",
     "output_type": "stream",
     "text": [
      "0 0.5977011494252874\n",
      "10 0.6436781609195402\n",
      "20 0.6551724137931034\n",
      "30 0.6666666666666666\n",
      "40 0.6551724137931034\n",
      "50 0.5057471264367817\n",
      "60 0.5287356321839081\n",
      "70 0.5747126436781609\n",
      "80 0.6436781609195402\n",
      "90 0.6436781609195402\n",
      "100 0.5632183908045977\n",
      "110 0.632183908045977\n",
      "0.7126436781609196\n",
      "{'n_estimators': 5, 'max_depth': 1, 'min_samples_split': 2, 'min_samples_leaf': 2, 'max_features': 6, 'max_leaf_nodes': 3, 'score': 0.7126436781609196}\n"
     ]
    }
   ],
   "source": [
    "for i in range(115):\n",
    "    hyper_params = random_search.get_combination();\n",
    "    score = check_model(main_model(**hyper_params))\n",
    "    hyper_params['score'] = score\n",
    "    hyper_series = pd.Series(hyper_params)\n",
    "    \n",
    "    hyper_df = pd.concat([hyper_df, hyper_series.to_frame().T], ignore_index=True)\n",
    "    \n",
    "    if score > best_score:\n",
    "        best_score = score\n",
    "        best_params = hyper_params\n",
    "    if i % 10 == 0:\n",
    "        print(f'{i} {score}')\n",
    "    best_random.append(best_score)\n",
    "print(best_score)\n",
    "print(best_params)"
   ]
  },
  {
   "cell_type": "code",
   "execution_count": 37,
   "id": "e9311eeb-2814-421c-854d-51fa08f5cdb3",
   "metadata": {},
   "outputs": [
    {
     "data": {
      "text/html": [
       "<div>\n",
       "<style scoped>\n",
       "    .dataframe tbody tr th:only-of-type {\n",
       "        vertical-align: middle;\n",
       "    }\n",
       "\n",
       "    .dataframe tbody tr th {\n",
       "        vertical-align: top;\n",
       "    }\n",
       "\n",
       "    .dataframe thead th {\n",
       "        text-align: right;\n",
       "    }\n",
       "</style>\n",
       "<table border=\"1\" class=\"dataframe\">\n",
       "  <thead>\n",
       "    <tr style=\"text-align: right;\">\n",
       "      <th></th>\n",
       "      <th>n_estimators</th>\n",
       "      <th>max_depth</th>\n",
       "      <th>min_samples_split</th>\n",
       "      <th>min_samples_leaf</th>\n",
       "      <th>max_features</th>\n",
       "      <th>max_leaf_nodes</th>\n",
       "      <th>score</th>\n",
       "    </tr>\n",
       "  </thead>\n",
       "  <tbody>\n",
       "    <tr>\n",
       "      <th>0</th>\n",
       "      <td>5.0</td>\n",
       "      <td>1.0</td>\n",
       "      <td>2.0</td>\n",
       "      <td>2.0</td>\n",
       "      <td>5.0</td>\n",
       "      <td>3.0</td>\n",
       "      <td>0.597701</td>\n",
       "    </tr>\n",
       "    <tr>\n",
       "      <th>1</th>\n",
       "      <td>4.0</td>\n",
       "      <td>2.0</td>\n",
       "      <td>3.0</td>\n",
       "      <td>1.0</td>\n",
       "      <td>3.0</td>\n",
       "      <td>2.0</td>\n",
       "      <td>0.597701</td>\n",
       "    </tr>\n",
       "    <tr>\n",
       "      <th>2</th>\n",
       "      <td>4.0</td>\n",
       "      <td>2.0</td>\n",
       "      <td>2.0</td>\n",
       "      <td>1.0</td>\n",
       "      <td>1.0</td>\n",
       "      <td>3.0</td>\n",
       "      <td>0.528736</td>\n",
       "    </tr>\n",
       "    <tr>\n",
       "      <th>3</th>\n",
       "      <td>1.0</td>\n",
       "      <td>1.0</td>\n",
       "      <td>3.0</td>\n",
       "      <td>1.0</td>\n",
       "      <td>3.0</td>\n",
       "      <td>3.0</td>\n",
       "      <td>0.482759</td>\n",
       "    </tr>\n",
       "    <tr>\n",
       "      <th>4</th>\n",
       "      <td>1.0</td>\n",
       "      <td>1.0</td>\n",
       "      <td>2.0</td>\n",
       "      <td>1.0</td>\n",
       "      <td>1.0</td>\n",
       "      <td>2.0</td>\n",
       "      <td>0.540230</td>\n",
       "    </tr>\n",
       "    <tr>\n",
       "      <th>...</th>\n",
       "      <td>...</td>\n",
       "      <td>...</td>\n",
       "      <td>...</td>\n",
       "      <td>...</td>\n",
       "      <td>...</td>\n",
       "      <td>...</td>\n",
       "      <td>...</td>\n",
       "    </tr>\n",
       "    <tr>\n",
       "      <th>110</th>\n",
       "      <td>3.0</td>\n",
       "      <td>2.0</td>\n",
       "      <td>2.0</td>\n",
       "      <td>1.0</td>\n",
       "      <td>5.0</td>\n",
       "      <td>3.0</td>\n",
       "      <td>0.632184</td>\n",
       "    </tr>\n",
       "    <tr>\n",
       "      <th>111</th>\n",
       "      <td>2.0</td>\n",
       "      <td>1.0</td>\n",
       "      <td>3.0</td>\n",
       "      <td>2.0</td>\n",
       "      <td>6.0</td>\n",
       "      <td>3.0</td>\n",
       "      <td>0.586207</td>\n",
       "    </tr>\n",
       "    <tr>\n",
       "      <th>112</th>\n",
       "      <td>4.0</td>\n",
       "      <td>1.0</td>\n",
       "      <td>3.0</td>\n",
       "      <td>2.0</td>\n",
       "      <td>6.0</td>\n",
       "      <td>3.0</td>\n",
       "      <td>0.563218</td>\n",
       "    </tr>\n",
       "    <tr>\n",
       "      <th>113</th>\n",
       "      <td>2.0</td>\n",
       "      <td>2.0</td>\n",
       "      <td>2.0</td>\n",
       "      <td>2.0</td>\n",
       "      <td>2.0</td>\n",
       "      <td>2.0</td>\n",
       "      <td>0.551724</td>\n",
       "    </tr>\n",
       "    <tr>\n",
       "      <th>114</th>\n",
       "      <td>2.0</td>\n",
       "      <td>2.0</td>\n",
       "      <td>3.0</td>\n",
       "      <td>2.0</td>\n",
       "      <td>4.0</td>\n",
       "      <td>3.0</td>\n",
       "      <td>0.586207</td>\n",
       "    </tr>\n",
       "  </tbody>\n",
       "</table>\n",
       "<p>115 rows × 7 columns</p>\n",
       "</div>"
      ],
      "text/plain": [
       "     n_estimators  max_depth  min_samples_split  min_samples_leaf  \\\n",
       "0             5.0        1.0                2.0               2.0   \n",
       "1             4.0        2.0                3.0               1.0   \n",
       "2             4.0        2.0                2.0               1.0   \n",
       "3             1.0        1.0                3.0               1.0   \n",
       "4             1.0        1.0                2.0               1.0   \n",
       "..            ...        ...                ...               ...   \n",
       "110           3.0        2.0                2.0               1.0   \n",
       "111           2.0        1.0                3.0               2.0   \n",
       "112           4.0        1.0                3.0               2.0   \n",
       "113           2.0        2.0                2.0               2.0   \n",
       "114           2.0        2.0                3.0               2.0   \n",
       "\n",
       "     max_features  max_leaf_nodes     score  \n",
       "0             5.0             3.0  0.597701  \n",
       "1             3.0             2.0  0.597701  \n",
       "2             1.0             3.0  0.528736  \n",
       "3             3.0             3.0  0.482759  \n",
       "4             1.0             2.0  0.540230  \n",
       "..            ...             ...       ...  \n",
       "110           5.0             3.0  0.632184  \n",
       "111           6.0             3.0  0.586207  \n",
       "112           6.0             3.0  0.563218  \n",
       "113           2.0             2.0  0.551724  \n",
       "114           4.0             3.0  0.586207  \n",
       "\n",
       "[115 rows x 7 columns]"
      ]
     },
     "execution_count": 37,
     "metadata": {},
     "output_type": "execute_result"
    }
   ],
   "source": [
    "hyper_df"
   ]
  },
  {
   "cell_type": "markdown",
   "id": "a44be05b-c44d-416c-bdac-9ed6b40ee251",
   "metadata": {},
   "source": [
    "5. Визуализируйте пространство протестированных значений гиперпараметров. Цветом обозначьте значение целевой функции на них."
   ]
  },
  {
   "cell_type": "code",
   "execution_count": 38,
   "id": "24813873-6998-4d63-a51f-e4514f83c466",
   "metadata": {},
   "outputs": [],
   "source": [
    "from sklearn.decomposition import PCA\n",
    "def vis(df):\n",
    "    pca = PCA(n_components=2)\n",
    "    params_2d = pca.fit_transform(df.drop('score', axis = 1))\n",
    "    ans_df = pd.DataFrame(data = params_2d, columns=['component1', 'component2'])\n",
    "    return ans_df"
   ]
  },
  {
   "cell_type": "code",
   "execution_count": 39,
   "id": "28d5a062-1f16-474f-9bc4-e7b9d9bee04c",
   "metadata": {},
   "outputs": [
    {
     "data": {
      "text/html": [
       "<div>\n",
       "<style scoped>\n",
       "    .dataframe tbody tr th:only-of-type {\n",
       "        vertical-align: middle;\n",
       "    }\n",
       "\n",
       "    .dataframe tbody tr th {\n",
       "        vertical-align: top;\n",
       "    }\n",
       "\n",
       "    .dataframe thead th {\n",
       "        text-align: right;\n",
       "    }\n",
       "</style>\n",
       "<table border=\"1\" class=\"dataframe\">\n",
       "  <thead>\n",
       "    <tr style=\"text-align: right;\">\n",
       "      <th></th>\n",
       "      <th>component1</th>\n",
       "      <th>component2</th>\n",
       "    </tr>\n",
       "  </thead>\n",
       "  <tbody>\n",
       "    <tr>\n",
       "      <th>0</th>\n",
       "      <td>-2.197519</td>\n",
       "      <td>1.142630</td>\n",
       "    </tr>\n",
       "    <tr>\n",
       "      <th>1</th>\n",
       "      <td>0.105418</td>\n",
       "      <td>1.159721</td>\n",
       "    </tr>\n",
       "    <tr>\n",
       "      <th>2</th>\n",
       "      <td>1.849625</td>\n",
       "      <td>2.072971</td>\n",
       "    </tr>\n",
       "    <tr>\n",
       "      <th>3</th>\n",
       "      <td>1.406187</td>\n",
       "      <td>-1.592599</td>\n",
       "    </tr>\n",
       "    <tr>\n",
       "      <th>4</th>\n",
       "      <td>3.218780</td>\n",
       "      <td>-0.669793</td>\n",
       "    </tr>\n",
       "    <tr>\n",
       "      <th>...</th>\n",
       "      <td>...</td>\n",
       "      <td>...</td>\n",
       "    </tr>\n",
       "    <tr>\n",
       "      <th>110</th>\n",
       "      <td>-1.293875</td>\n",
       "      <td>-0.586909</td>\n",
       "    </tr>\n",
       "    <tr>\n",
       "      <th>111</th>\n",
       "      <td>-1.757334</td>\n",
       "      <td>-2.016688</td>\n",
       "    </tr>\n",
       "    <tr>\n",
       "      <th>112</th>\n",
       "      <td>-2.639002</td>\n",
       "      <td>-0.228220</td>\n",
       "    </tr>\n",
       "    <tr>\n",
       "      <th>113</th>\n",
       "      <td>1.834967</td>\n",
       "      <td>-0.146220</td>\n",
       "    </tr>\n",
       "    <tr>\n",
       "      <th>114</th>\n",
       "      <td>0.022374</td>\n",
       "      <td>-1.069026</td>\n",
       "    </tr>\n",
       "  </tbody>\n",
       "</table>\n",
       "<p>115 rows × 2 columns</p>\n",
       "</div>"
      ],
      "text/plain": [
       "     component1  component2\n",
       "0     -2.197519    1.142630\n",
       "1      0.105418    1.159721\n",
       "2      1.849625    2.072971\n",
       "3      1.406187   -1.592599\n",
       "4      3.218780   -0.669793\n",
       "..          ...         ...\n",
       "110   -1.293875   -0.586909\n",
       "111   -1.757334   -2.016688\n",
       "112   -2.639002   -0.228220\n",
       "113    1.834967   -0.146220\n",
       "114    0.022374   -1.069026\n",
       "\n",
       "[115 rows x 2 columns]"
      ]
     },
     "execution_count": 39,
     "metadata": {},
     "output_type": "execute_result"
    }
   ],
   "source": [
    "vis(hyper_df)"
   ]
  },
  {
   "cell_type": "code",
   "execution_count": 40,
   "id": "99c17740-37e1-460b-acf7-3d9c637712ca",
   "metadata": {},
   "outputs": [],
   "source": [
    "import seaborn as sns\n",
    "import matplotlib.pyplot as plt"
   ]
  },
  {
   "cell_type": "code",
   "execution_count": 41,
   "id": "ce87901a-a33e-412d-a2f7-fdf799b31c41",
   "metadata": {},
   "outputs": [],
   "source": [
    "def d2(df):\n",
    "    pca2D_df = vis(df)\n",
    "    plt.scatter(pca2D_df.component1, pca2D_df.component2, c=hyper_df.score, cmap='viridis')\n",
    "    plt.title(\"PCA\")\n",
    "    plt.show()"
   ]
  },
  {
   "cell_type": "code",
   "execution_count": 42,
   "id": "9461a541-997c-4e68-b489-e4e92f671b5f",
   "metadata": {},
   "outputs": [
    {
     "data": {
      "image/png": "[encoded data removed]",
      "text/plain": [
       "<Figure size 640x480 with 1 Axes>"
      ]
     },
     "metadata": {},
     "output_type": "display_data"
    }
   ],
   "source": [
    "pca2D_df = vis(hyper_df)\n",
    "plt.scatter(pca2D_df.component1, pca2D_df.component2, c=hyper_df.score, cmap='viridis')\n",
    "plt.title(\"PCA\")\n",
    "plt.show()"
   ]
  },
  {
   "cell_type": "code",
   "execution_count": null,
   "id": "3ab489e2-5c80-4377-893e-140395d055ca",
   "metadata": {},
   "outputs": [],
   "source": []
  },
  {
   "cell_type": "code",
   "execution_count": 43,
   "id": "bc742ddd-4ee4-447f-a33f-f8c70ce84b6c",
   "metadata": {},
   "outputs": [
    {
     "data": {
      "image/png": "[encoded data removed]",
      "text/plain": [
       "<Figure size 640x480 with 1 Axes>"
      ]
     },
     "metadata": {},
     "output_type": "display_data"
    }
   ],
   "source": [
    "pca2D_df = vis(bayes.observations_df)\n",
    "plt.scatter(pca2D_df.component1, pca2D_df.component2, c=bayes.observations_df.score, cmap='viridis')\n",
    "plt.title(\"PCA\")\n",
    "plt.show()"
   ]
  },
  {
   "cell_type": "code",
   "execution_count": 44,
   "id": "76662980-9972-417f-93ad-e52e11436237",
   "metadata": {},
   "outputs": [
    {
     "data": {
      "text/html": [
       "<div>\n",
       "<style scoped>\n",
       "    .dataframe tbody tr th:only-of-type {\n",
       "        vertical-align: middle;\n",
       "    }\n",
       "\n",
       "    .dataframe tbody tr th {\n",
       "        vertical-align: top;\n",
       "    }\n",
       "\n",
       "    .dataframe thead th {\n",
       "        text-align: right;\n",
       "    }\n",
       "</style>\n",
       "<table border=\"1\" class=\"dataframe\">\n",
       "  <thead>\n",
       "    <tr style=\"text-align: right;\">\n",
       "      <th></th>\n",
       "      <th>component1</th>\n",
       "      <th>component2</th>\n",
       "    </tr>\n",
       "  </thead>\n",
       "  <tbody>\n",
       "    <tr>\n",
       "      <th>0</th>\n",
       "      <td>-2.197519</td>\n",
       "      <td>1.142630</td>\n",
       "    </tr>\n",
       "    <tr>\n",
       "      <th>1</th>\n",
       "      <td>0.105418</td>\n",
       "      <td>1.159721</td>\n",
       "    </tr>\n",
       "    <tr>\n",
       "      <th>2</th>\n",
       "      <td>1.849625</td>\n",
       "      <td>2.072971</td>\n",
       "    </tr>\n",
       "    <tr>\n",
       "      <th>3</th>\n",
       "      <td>1.406187</td>\n",
       "      <td>-1.592599</td>\n",
       "    </tr>\n",
       "    <tr>\n",
       "      <th>4</th>\n",
       "      <td>3.218780</td>\n",
       "      <td>-0.669793</td>\n",
       "    </tr>\n",
       "    <tr>\n",
       "      <th>...</th>\n",
       "      <td>...</td>\n",
       "      <td>...</td>\n",
       "    </tr>\n",
       "    <tr>\n",
       "      <th>110</th>\n",
       "      <td>-1.293875</td>\n",
       "      <td>-0.586909</td>\n",
       "    </tr>\n",
       "    <tr>\n",
       "      <th>111</th>\n",
       "      <td>-1.757334</td>\n",
       "      <td>-2.016688</td>\n",
       "    </tr>\n",
       "    <tr>\n",
       "      <th>112</th>\n",
       "      <td>-2.639002</td>\n",
       "      <td>-0.228220</td>\n",
       "    </tr>\n",
       "    <tr>\n",
       "      <th>113</th>\n",
       "      <td>1.834967</td>\n",
       "      <td>-0.146220</td>\n",
       "    </tr>\n",
       "    <tr>\n",
       "      <th>114</th>\n",
       "      <td>0.022374</td>\n",
       "      <td>-1.069026</td>\n",
       "    </tr>\n",
       "  </tbody>\n",
       "</table>\n",
       "<p>115 rows × 2 columns</p>\n",
       "</div>"
      ],
      "text/plain": [
       "     component1  component2\n",
       "0     -2.197519    1.142630\n",
       "1      0.105418    1.159721\n",
       "2      1.849625    2.072971\n",
       "3      1.406187   -1.592599\n",
       "4      3.218780   -0.669793\n",
       "..          ...         ...\n",
       "110   -1.293875   -0.586909\n",
       "111   -1.757334   -2.016688\n",
       "112   -2.639002   -0.228220\n",
       "113    1.834967   -0.146220\n",
       "114    0.022374   -1.069026\n",
       "\n",
       "[115 rows x 2 columns]"
      ]
     },
     "execution_count": 44,
     "metadata": {},
     "output_type": "execute_result"
    }
   ],
   "source": [
    "pca2D_df = vis(hyper_df)\n",
    "pca2D_df"
   ]
  },
  {
   "cell_type": "markdown",
   "id": "4ad880c9-696e-4fae-85de-6f3a717780e8",
   "metadata": {},
   "source": [
    "6. Визуализируйте значение целевой функции в зависимости от номера шага."
   ]
  },
  {
   "cell_type": "code",
   "execution_count": 45,
   "id": "86c20a6c-b6e2-4dde-8621-f92e4a80182e",
   "metadata": {},
   "outputs": [
    {
     "data": {
      "image/png": "[encoded data removed]",
      "text/plain": [
       "<Figure size 640x480 with 1 Axes>"
      ]
     },
     "metadata": {},
     "output_type": "display_data"
    }
   ],
   "source": [
    "plt.plot(hyper_df['score'], color='blue')\n",
    "plt.plot(bayes.observations_df['score'], color='red')\n",
    "plt.legend(['random', 'bayes'])\n",
    "plt.show()"
   ]
  },
  {
   "cell_type": "code",
   "execution_count": 46,
   "id": "affe5049-2aef-4b03-971c-bcb590e18d2a",
   "metadata": {},
   "outputs": [
    {
     "data": {
      "image/png": "[encoded data removed]",
      "text/plain": [
       "<Figure size 640x480 with 1 Axes>"
      ]
     },
     "metadata": {},
     "output_type": "display_data"
    }
   ],
   "source": [
    "plt.plot(best_random, color='blue')\n",
    "plt.plot(best_bayes, color='red')\n",
    "plt.legend(['random', 'bayes'])\n",
    "plt.show()"
   ]
  },
  {
   "cell_type": "code",
   "execution_count": 47,
   "id": "bd62fd7b-0114-475e-96bd-0869b0d2032f",
   "metadata": {},
   "outputs": [
    {
     "name": "stdout",
     "output_type": "stream",
     "text": [
      "0.7126436781609196\n",
      "0.7701149425287356\n"
     ]
    }
   ],
   "source": [
    "print(best_random[-1])\n",
    "print(best_bayes[-1])"
   ]
  },
  {
   "cell_type": "code",
   "execution_count": null,
   "id": "0f8bade6-8130-445c-9186-2fc6fa332a31",
   "metadata": {},
   "outputs": [],
   "source": []
  }
 ],
 "metadata": {
  "kernelspec": {
   "display_name": "Python 3 (ipykernel)",
   "language": "python",
   "name": "python3"
  },
  "language_info": {
   "codemirror_mode": {
    "name": "ipython",
    "version": 3
   },
   "file_extension": ".py",
   "mimetype": "text/x-python",
   "name": "python",
   "nbconvert_exporter": "python",
   "pygments_lexer": "ipython3",
   "version": "3.9.13"
  }
 },
 "nbformat": 4,
 "nbformat_minor": 5
}
