{
 "cells": [
  {
   "cell_type": "code",
   "execution_count": null,
   "id": "adf6d10d-0014-44f4-b7e2-873f32d956fe",
   "metadata": {},
   "outputs": [],
   "source": [
    "import shutil \n",
    "def copy_file_to_norm(srcs):\n",
    "    dest = 'Normal'\n",
    "    for f in srcs:\n",
    "        shutil.copy2(folder_name+datasets_folder+f, dest)"
   ]
  },
  {
   "cell_type": "code",
   "execution_count": 1,
   "id": "805212ab-10ba-4842-8cfe-73e35d7380ef",
   "metadata": {},
   "outputs": [],
   "source": [
    "s = b'stroka'"
   ]
  },
  {
   "cell_type": "code",
   "execution_count": 2,
   "id": "1c2f1190-a8e7-45f6-ad2c-05ed6287f924",
   "metadata": {},
   "outputs": [
    {
     "data": {
      "text/plain": [
       "'stroka'"
      ]
     },
     "execution_count": 2,
     "metadata": {},
     "output_type": "execute_result"
    }
   ],
   "source": [
    "s.decode('UTF-8')"
   ]
  },
  {
   "cell_type": "code",
   "execution_count": null,
   "id": "ed6f3cdd-9bbf-4a7c-9a39-1771d00b6196",
   "metadata": {},
   "outputs": [],
   "source": []
  }
 ],
 "metadata": {
  "kernelspec": {
   "display_name": "Python 3 (ipykernel)",
   "language": "python",
   "name": "python3"
  },
  "language_info": {
   "codemirror_mode": {
    "name": "ipython",
    "version": 3
   },
   "file_extension": ".py",
   "mimetype": "text/x-python",
   "name": "python",
   "nbconvert_exporter": "python",
   "pygments_lexer": "ipython3",
   "version": "3.9.13"
  }
 },
 "nbformat": 4,
 "nbformat_minor": 5
}
